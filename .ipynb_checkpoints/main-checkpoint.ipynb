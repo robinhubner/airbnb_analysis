{
 "cells": [
  {
   "cell_type": "code",
   "execution_count": null,
   "metadata": {},
   "outputs": [],
   "source": [
    "# import of all required libaries\n",
    "import numpy as np\n",
    "import pandas as pd\n",
    "import seaborn as sns\n",
    "import matplotlib\n",
    "import matplotlib.pyplot as plt\n",
    "import datetime as dt"
   ]
  },
  {
   "cell_type": "code",
   "execution_count": null,
   "metadata": {},
   "outputs": [],
   "source": [
    "# import of data\n",
    "listings_df = pd.read_csv('listings.csv')\n",
    "calendar_df = pd.read_csv('calendar.csv')\n",
    "reviews_df = pd.read_csv('reviews.csv')"
   ]
  },
  {
   "cell_type": "markdown",
   "metadata": {},
   "source": [
    "## 1. Business Questions"
   ]
  },
  {
   "cell_type": "markdown",
   "metadata": {},
   "source": [
    "1. Which selected variables from the data set impact the price per night of the Airbnb listings in Seattle?\n",
    "2. Is the price per night of an Airbnb appartment the more affordable the more people share an appartment per night?\n",
    "3. Is there a seasonality in the prices?\n"
   ]
  },
  {
   "cell_type": "markdown",
   "metadata": {},
   "source": [
    "## 2. Data Understanding"
   ]
  },
  {
   "cell_type": "markdown",
   "metadata": {},
   "source": [
    "### Listings Dataframe"
   ]
  },
  {
   "cell_type": "code",
   "execution_count": null,
   "metadata": {},
   "outputs": [],
   "source": [
    "listings_df.shape"
   ]
  },
  {
   "cell_type": "code",
   "execution_count": null,
   "metadata": {},
   "outputs": [],
   "source": [
    "listings_df.head()"
   ]
  },
  {
   "cell_type": "markdown",
   "metadata": {},
   "source": [
    "### Calendar Dataframe"
   ]
  },
  {
   "cell_type": "code",
   "execution_count": null,
   "metadata": {},
   "outputs": [],
   "source": [
    "calendar_df.shape"
   ]
  },
  {
   "cell_type": "code",
   "execution_count": null,
   "metadata": {},
   "outputs": [],
   "source": [
    "calendar_df.head()"
   ]
  },
  {
   "cell_type": "markdown",
   "metadata": {},
   "source": [
    "### Reviews Dataframe"
   ]
  },
  {
   "cell_type": "code",
   "execution_count": null,
   "metadata": {},
   "outputs": [],
   "source": [
    "reviews_df.shape"
   ]
  },
  {
   "cell_type": "code",
   "execution_count": null,
   "metadata": {},
   "outputs": [],
   "source": [
    "reviews_df.head()"
   ]
  },
  {
   "cell_type": "markdown",
   "metadata": {},
   "source": [
    "## 3. Pre-Processing (Data Preparation)"
   ]
  },
  {
   "cell_type": "markdown",
   "metadata": {},
   "source": [
    "The pre-processing of the data-set is splitted in two parts, the general pre-processing part and the working with missing values part. In the first part the index is set, problems with the format are fixed and not required columsn are deleted. In this part not all columns in the three data sets are cleaner, but only the colums that are required for the analysis. \n",
    "\n",
    "\n",
    "The second part is about missing values in the data-set, which can be quantitative or categorial values. Depending on the specific context of each problem it is dealt with the missing values. "
   ]
  },
  {
   "cell_type": "markdown",
   "metadata": {},
   "source": [
    "### 3.1 Pre-Processing of \"listings_df\""
   ]
  },
  {
   "cell_type": "code",
   "execution_count": null,
   "metadata": {},
   "outputs": [],
   "source": [
    "listings_df.info()"
   ]
  },
  {
   "cell_type": "code",
   "execution_count": null,
   "metadata": {},
   "outputs": [],
   "source": [
    "#Set the index\n",
    "listings_df.set_index('id', inplace = True)"
   ]
  },
  {
   "cell_type": "code",
   "execution_count": null,
   "metadata": {},
   "outputs": [],
   "source": [
    "# Drop columns we will not use for any of the analysis\n",
    "listings_df = listings_df.drop(columns=['experiences_offered','host_location','host_about','host_response_time',\n",
    "                                        'name','summary','space','description','neighborhood_overview','notes',\n",
    "                                        'transit','thumbnail_url','medium_url','picture_url','xl_picture_url',\n",
    "                                        'host_url','host_name','host_listings_count','street','neighbourhood',\n",
    "                                        'neighbourhood_cleansed','city','zipcode','market','smart_location',\n",
    "                                        'country_code','country','latitude','longitude','is_location_exact',\n",
    "                                        'calendar_updated','calendar_last_scraped','first_review','last_review',\n",
    "                                        'first_review','last_review','calculated_host_listings_count',\n",
    "                                        'requires_license','license','jurisdiction_names','instant_bookable',\n",
    "                                        'cancellation_policy','require_guest_profile_picture',\n",
    "                                        'require_guest_phone_verification','calculated_host_listings_count',\n",
    "                                        'weekly_price','monthly_price','host_acceptance_rate','host_verifications',\n",
    "                                        'host_has_profile_pic','beds','bed_type','amenities','security_deposit',\n",
    "                                        'cleaning_fee','guests_included','extra_people','minimum_nights',\n",
    "                                        'maximum_nights','availability_30','availability_60','availability_90',\n",
    "                                        'availability_365','review_scores_rating','review_scores_accuracy',\n",
    "                                        'review_scores_cleanliness','review_scores_checkin',\n",
    "                                        'review_scores_communication','review_scores_location',\n",
    "                                        'review_scores_value','bathrooms',\n",
    "                                        'square_feet'])"
   ]
  },
  {
   "cell_type": "code",
   "execution_count": null,
   "metadata": {},
   "outputs": [],
   "source": [
    "# Drop columns with no price\n",
    "listings_df = listings_df.dropna(subset=['price'])"
   ]
  },
  {
   "cell_type": "code",
   "execution_count": null,
   "metadata": {},
   "outputs": [],
   "source": [
    "# Remove the '$', ' ' and ',' from the price and convert into float\n",
    "listings_df.price = listings_df.price.str.replace('$','').str.replace(',','').str.replace(' ','').astype('float')"
   ]
  },
  {
   "cell_type": "code",
   "execution_count": null,
   "metadata": {},
   "outputs": [],
   "source": [
    "# Remove percent from 'host_response_rate'\n",
    "listings_df.host_response_rate = listings_df.host_response_rate.str.replace('%','').str.replace(' ','').astype('float')"
   ]
  },
  {
   "cell_type": "code",
   "execution_count": null,
   "metadata": {},
   "outputs": [],
   "source": [
    "# Convert column 'last_scraped' and 'host_since' in the data type 'datetime64[D]' \n",
    "listings_df.host_since = listings_df.host_since.astype('datetime64[D]')"
   ]
  },
  {
   "cell_type": "code",
   "execution_count": null,
   "metadata": {},
   "outputs": [],
   "source": [
    "# Create dummy variables for true and false statements\n",
    "listings_df.host_is_superhost = pd.get_dummies(listings_df.host_is_superhost).iloc[:,1:]\n",
    "listings_df.host_identity_verified = pd.get_dummies(listings_df.host_identity_verified).iloc[:,1:]"
   ]
  },
  {
   "cell_type": "code",
   "execution_count": null,
   "metadata": {},
   "outputs": [],
   "source": [
    "#listings_df.calculated_host_listings_count.value_counts()"
   ]
  },
  {
   "cell_type": "code",
   "execution_count": null,
   "metadata": {},
   "outputs": [],
   "source": [
    "#Test\n",
    "listings_df.info()"
   ]
  },
  {
   "cell_type": "markdown",
   "metadata": {},
   "source": [
    "### 3.2 Pre-Processing of \"calendar_df\""
   ]
  },
  {
   "cell_type": "code",
   "execution_count": null,
   "metadata": {},
   "outputs": [],
   "source": [
    "calendar_df.info()"
   ]
  },
  {
   "cell_type": "code",
   "execution_count": null,
   "metadata": {},
   "outputs": [],
   "source": [
    "#Set the index\n",
    "calendar_df.set_index('listing_id', inplace=True)\n",
    "\n",
    "# Remove the '$', ' ' and ',' from the price\n",
    "calendar_df.price = calendar_df.price.str.replace('$','').str.replace(',','').str.replace(' ','')\n",
    "\n",
    "# Drop rows with no value for price\n",
    "calendar_df = calendar_df.dropna(subset = ['price'])\n",
    "\n",
    "# Convert the price into the data type 'float'\n",
    "calendar_df.price = calendar_df.price.astype('float')"
   ]
  },
  {
   "cell_type": "code",
   "execution_count": null,
   "metadata": {},
   "outputs": [],
   "source": [
    "# Convert the date into the data type datetime\n",
    "calendar_df.date = pd.to_datetime(calendar_df.date)"
   ]
  },
  {
   "cell_type": "code",
   "execution_count": null,
   "metadata": {},
   "outputs": [],
   "source": [
    "# Split the date in year, month and day\n",
    "calendar_df['year'] = calendar_df.date.dt.year\n",
    "calendar_df['month'] = calendar_df.date.dt.month\n",
    "calendar_df['day'] = calendar_df.date.dt.day\n",
    "calendar_df['weekday'] = calendar_df.date.dt.dayofweek"
   ]
  },
  {
   "cell_type": "code",
   "execution_count": null,
   "metadata": {},
   "outputs": [],
   "source": [
    "calendar_df"
   ]
  },
  {
   "cell_type": "code",
   "execution_count": null,
   "metadata": {},
   "outputs": [],
   "source": [
    "#test the changes\n",
    "calendar_df.info()"
   ]
  },
  {
   "cell_type": "markdown",
   "metadata": {},
   "source": [
    "### 3.3 Pre-Processing of \"reviews_df\""
   ]
  },
  {
   "cell_type": "code",
   "execution_count": null,
   "metadata": {},
   "outputs": [],
   "source": [
    "reviews_df.info()"
   ]
  },
  {
   "cell_type": "code",
   "execution_count": null,
   "metadata": {},
   "outputs": [],
   "source": [
    "#set the index\n",
    "reviews_df.set_index('id', inplace=True)\n",
    "\n",
    "#covert 'date' into data type 'datetime64[D]' \n",
    "reviews_df.date = reviews_df.date.astype('datetime64[D]')"
   ]
  },
  {
   "cell_type": "code",
   "execution_count": null,
   "metadata": {},
   "outputs": [],
   "source": [
    "#test\n",
    "reviews_df.info()"
   ]
  },
  {
   "cell_type": "markdown",
   "metadata": {},
   "source": [
    "## 4. Exploratory Data Analysis"
   ]
  },
  {
   "cell_type": "markdown",
   "metadata": {},
   "source": [
    "### 4.1 Question 1: Which selected variables from the data set impact the price per night of the Airbnb listings in Seattle?"
   ]
  },
  {
   "cell_type": "markdown",
   "metadata": {},
   "source": [
    "In order to answer this question, several variables are compared to the price. In some cases the correlation of the price and a specific variable is calculated, in other cases, e.g. whether the host is a \"super host\" or not, the mean price of listings from \"super hosts\" is compared to the mean price of the rest.\n",
    "\n",
    "Let us start with a histogram of the prices:"
   ]
  },
  {
   "cell_type": "code",
   "execution_count": null,
   "metadata": {},
   "outputs": [],
   "source": [
    "# Price distribution\n",
    "price_df = listings_df.price.copy().dropna()\n",
    "\n",
    "plot_bar = price_df.plot.hist(figsize =(20,5),\n",
    "                                    bins=40,\n",
    "                                    range=[0, 400],\n",
    "                                    fontsize=20,\n",
    "                                    colormap = 'viridis',\n",
    "                                    title = 'Price per night distribution',\n",
    "                                    legend = False)"
   ]
  },
  {
   "cell_type": "markdown",
   "metadata": {},
   "source": [
    "#### Data Point 1: Room and Property Type"
   ]
  },
  {
   "cell_type": "code",
   "execution_count": null,
   "metadata": {
    "scrolled": false
   },
   "outputs": [],
   "source": [
    "# We use a pie chart to visualize the value counts of the different room types\n",
    "roomtype_df = listings_df.room_type.copy().dropna()\n",
    "roomtype_df.value_counts().plot.pie(figsize = (20,5),\n",
    "                                              fontsize = 20,\n",
    "                                              colormap = 'viridis',\n",
    "                                              autopct = '%.2f',\n",
    "                                              title = 'Room type distribution',\n",
    "                                              legend = False)"
   ]
  },
  {
   "cell_type": "code",
   "execution_count": null,
   "metadata": {},
   "outputs": [],
   "source": [
    "# Visualize the mean price of each room type\n",
    "price_room_type_df = listings_df[['price','room_type']].copy()\n",
    "price_room_type_df.groupby(['room_type'])\n",
    "price_room_type_df.groupby(['room_type']).price.mean().plot.bar(figsize =(20,5),\n",
    "                                                                fontsize=20,\n",
    "                                                                colormap = 'viridis',\n",
    "                                                                title = 'Room type mean price',\n",
    "                                                                legend = False)"
   ]
  },
  {
   "cell_type": "code",
   "execution_count": null,
   "metadata": {},
   "outputs": [],
   "source": [
    "# We then use a pie chart to visualize the value counts of different property types\n",
    "property_type_df = listings_df.property_type.copy().dropna()\n",
    "property_type_df.value_counts().plot.barh(figsize = (20,5),\n",
    "                                              fontsize = 15,\n",
    "                                              colormap = 'viridis',\n",
    "                                              title = 'Property Type Counts',\n",
    "                                              legend = False)"
   ]
  },
  {
   "cell_type": "markdown",
   "metadata": {},
   "source": [
    "The first variable we check is the response rate of the host. We check if it correlates with the price:"
   ]
  },
  {
   "cell_type": "code",
   "execution_count": null,
   "metadata": {},
   "outputs": [],
   "source": [
    "# Visualize the mean price of each property type\n",
    "property_type_price_df = listings_df[['price','property_type']].copy().dropna()\n",
    "#price_room_type_df.groupby(['property_type'])\n",
    "property_type_price_df.groupby(['property_type']).price.mean().plot.bar(figsize =(20,5),\n",
    "                                                                fontsize=20,\n",
    "                                                                colormap = 'viridis',\n",
    "                                                                title = 'Mean price of property types',\n",
    "                                                                legend = False)"
   ]
  },
  {
   "cell_type": "code",
   "execution_count": null,
   "metadata": {},
   "outputs": [],
   "source": [
    "# Correlation of the price and the host_response_rate\n",
    "price_response_rate_df = listings_df[['host_response_rate','price']].copy()\n",
    "price_response_rate_df = price_response_rate_df.dropna()\n",
    "price_response_rate_df['host_response_rate'].corr(price_response_rate_df['price'],method='pearson')"
   ]
  },
  {
   "cell_type": "code",
   "execution_count": null,
   "metadata": {},
   "outputs": [],
   "source": [
    "# Creation of a heatmap that combines the mean price with property_typ and room_type\n",
    "heatmap_df = listings_df[['price','property_type','room_type']].copy()\n",
    "plt.figure(figsize=(10,10))\n",
    "heatmap = sns.heatmap(heatmap_df.groupby([\n",
    "        'property_type', 'room_type']).price.mean().unstack(),annot=True, fmt=\".0f\")"
   ]
  },
  {
   "cell_type": "markdown",
   "metadata": {},
   "source": [
    "#### Data Point 2: Area and Quantity of Bedrooms"
   ]
  },
  {
   "cell_type": "code",
   "execution_count": null,
   "metadata": {},
   "outputs": [],
   "source": [
    "# Distribution of the different neighbourhoods\n",
    "neighbourhood_df = listings_df[['price','neighbourhood_group_cleansed']].copy()\n",
    "neighbourhood_df = neighbourhood_df.dropna()\n",
    "\n",
    "neighbourhood_df.groupby(['neighbourhood_group_cleansed']).price.mean().plot.bar(figsize =(20,5),\n",
    "                                                                fontsize=20,\n",
    "                                                                colormap = 'viridis',\n",
    "                                                                title = 'Neighbourhod distribution',\n",
    "                                                                legend = False)"
   ]
  },
  {
   "cell_type": "code",
   "execution_count": null,
   "metadata": {},
   "outputs": [],
   "source": [
    "# Mean price for each neigbourhood\n",
    "neighbourhood_df = listings_df[['price','neighbourhood_group_cleansed']].copy()\n",
    "neighbourhood_df = neighbourhood_df.dropna()\n",
    "\n",
    "neighbourhood_df.groupby(['neighbourhood_group_cleansed']).price.mean().plot.bar(figsize =(20,5),\n",
    "                                                                fontsize=20,\n",
    "                                                                colormap = 'viridis',\n",
    "                                                                title = 'Neighbourhod distribution',\n",
    "                                                                legend = False)"
   ]
  },
  {
   "cell_type": "code",
   "execution_count": null,
   "metadata": {},
   "outputs": [],
   "source": [
    "# Creation of a second heat map that displays the mean price with the location and the number of bedroom\n",
    "heatmap_df = listings_df[['price','bedrooms','neighbourhood_group_cleansed']].copy()\n",
    "heatmap_df = heatmap_df.dropna()\n",
    "plt.figure(figsize=(10,10))\n",
    "heatmap = sns.heatmap(heatmap_df.groupby([\n",
    "        'neighbourhood_group_cleansed', 'bedrooms']).price.mean().unstack(),annot=True, fmt=\".0f\")"
   ]
  },
  {
   "cell_type": "markdown",
   "metadata": {},
   "source": [
    "#### Data Point 3: Super Host Status"
   ]
  },
  {
   "cell_type": "code",
   "execution_count": null,
   "metadata": {},
   "outputs": [],
   "source": [
    "# Dependency of host_is_superhost status and price\n",
    "price_host_is_superhost_df = listings_df[['host_is_superhost','price']].copy()\n",
    "price_host_is_superhost_df = price_host_is_superhost_df.dropna()\n",
    "\n",
    "\n",
    "plot_bar = price_host_is_superhost_df.groupby(['host_is_superhost']).price.mean().plot.bar(figsize =(20,5),\n",
    "                                                                fontsize=20,\n",
    "                                                                colormap = 'viridis',\n",
    "                                                                title = 'Room Type Distribution',\n",
    "                                                                legend = False)"
   ]
  },
  {
   "cell_type": "markdown",
   "metadata": {},
   "source": [
    "#### Data Point 4: Listing Count"
   ]
  },
  {
   "cell_type": "code",
   "execution_count": null,
   "metadata": {},
   "outputs": [],
   "source": [
    "# How many listings does the most Airbnb hosts offer?\n",
    "listing_counts = listings_df.host_total_listings_count.copy().dropna()\n",
    "\n",
    "plot_bar = listing_counts.plot.hist(figsize =(20,5),\n",
    "                                    bins=10,\n",
    "                                    range=[0, 20],\n",
    "                                    fontsize=20,\n",
    "                                    colormap = 'viridis',\n",
    "                                    title = 'Room Type Distribution',\n",
    "                                    legend = False)\n"
   ]
  },
  {
   "cell_type": "markdown",
   "metadata": {},
   "source": [
    "The histrogramm shows that most of the hosts have not many listings. But can the hosts can get a higher price the more appartments they have?"
   ]
  },
  {
   "cell_type": "code",
   "execution_count": null,
   "metadata": {},
   "outputs": [],
   "source": [
    "# Do people with more listings charge higher prices?\n",
    "price_host_total_listings_count_df = listings_df[['host_total_listings_count','price']].copy()\n",
    "price_host_total_listings_count_df = price_host_total_listings_count_df.dropna()\n",
    "\n",
    "plot_bar = price_host_total_listings_count_df.groupby(['host_total_listings_count']).price.mean().plot.bar(figsize =(20,5),\n",
    "                                                                fontsize=20,\n",
    "                                                                colormap = 'viridis',\n",
    "                                                                title = 'Room Type Distribution',\n",
    "                                                                legend = False)"
   ]
  },
  {
   "cell_type": "markdown",
   "metadata": {},
   "source": [
    "### 4.2 Question 2: Is the price per night of an Airbnb appartment the more affordable the more people share an appartment per night?"
   ]
  },
  {
   "cell_type": "markdown",
   "metadata": {},
   "source": [
    "Renting and entire room or appartment is much more expensive then renting a private room. The most affordable option is to rent a shared room.\n",
    "\n",
    "The quantity of accommodates per listing listing does also vary. For how many people are the most accommodations and have groups any cost advantages?"
   ]
  },
  {
   "cell_type": "code",
   "execution_count": null,
   "metadata": {},
   "outputs": [],
   "source": [
    "# For how many accommodates are the most listings?\n",
    "plot_hist = price_accommodates_df.plot.hist(figsize =(20,5),\n",
    "                                    bins=10,\n",
    "                                    range=[0, 20],\n",
    "                                    fontsize=20,\n",
    "                                    colormap = 'viridis',\n",
    "                                    title = 'Distribution of accommodates count',\n",
    "                                    legend = False)"
   ]
  },
  {
   "cell_type": "code",
   "execution_count": null,
   "metadata": {},
   "outputs": [],
   "source": [
    "# Is an appartment per person the more affordable the larger the group?\n",
    "price_accommodates_df['price_per_person'] = price_accommodates_df.price / price_accommodates_df.accommodates\n",
    "price_accommodates_df\n",
    "\n",
    "price_accommodates_df.groupby(['accommodates']).price_per_person.mean().plot.bar(figsize =(20,5),\n",
    "                                    fontsize=20,\n",
    "                                    colormap = 'viridis',\n",
    "                                    title = 'Distribution of accommodates count',\n",
    "                                    legend = False)\n",
    "\n",
    "print('The correlation-coefficient is', price_accommodates_df['accommodates'].corr(price_accommodates_df['price_per_person'],\n",
    "                                                                      method='pearson'))"
   ]
  },
  {
   "cell_type": "markdown",
   "metadata": {},
   "source": [
    "### 4.3 Question 3: Is there a seasonality in the prices?"
   ]
  },
  {
   "cell_type": "code",
   "execution_count": null,
   "metadata": {},
   "outputs": [],
   "source": [
    "# All of the data is in 2016 and 2017, hence, an analysis based on year is not effective\n",
    "calendar_df.year.value_counts()"
   ]
  },
  {
   "cell_type": "code",
   "execution_count": null,
   "metadata": {},
   "outputs": [],
   "source": [
    "# The average price for each month\n",
    "calendar_df.groupby(['month']).price.mean().plot.bar(figsize =(20,5),\n",
    "                                                                fontsize=20,\n",
    "                                                                colormap = 'viridis',\n",
    "                                                                title = 'Average Price Trends',\n",
    "                                                                legend = False)"
   ]
  },
  {
   "cell_type": "code",
   "execution_count": null,
   "metadata": {},
   "outputs": [],
   "source": [
    "# The average price for each weekday\n",
    "calendar_df.groupby(['weekday']).price.mean().plot.bar(figsize =(20,5),\n",
    "                                                                fontsize=20,\n",
    "                                                                colormap = 'viridis',\n",
    "                                                                title = 'Average Price Trends',\n",
    "                                                                legend = False)\n",
    "calendar_df.groupby(['weekday']).price.mean()"
   ]
  },
  {
   "cell_type": "code",
   "execution_count": null,
   "metadata": {},
   "outputs": [],
   "source": []
  },
  {
   "cell_type": "code",
   "execution_count": null,
   "metadata": {},
   "outputs": [],
   "source": []
  }
 ],
 "metadata": {
  "kernelspec": {
   "display_name": "Python 3",
   "language": "python",
   "name": "python3"
  },
  "language_info": {
   "codemirror_mode": {
    "name": "ipython",
    "version": 3
   },
   "file_extension": ".py",
   "mimetype": "text/x-python",
   "name": "python",
   "nbconvert_exporter": "python",
   "pygments_lexer": "ipython3",
   "version": "3.7.6"
  }
 },
 "nbformat": 4,
 "nbformat_minor": 4
}
